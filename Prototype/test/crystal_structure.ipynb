{
 "cells": [
  {
   "cell_type": "code",
   "execution_count": 1,
   "metadata": {},
   "outputs": [],
   "source": [
    "from Prototype.crystals.crystal_structure import CrystalStructure"
   ]
  },
  {
   "cell_type": "code",
   "execution_count": 2,
   "metadata": {},
   "outputs": [
    {
     "name": "stdout",
     "output_type": "stream",
     "text": [
      "8 2\n",
      "3\n",
      "0.0 0.0 0.0\n",
      "1.0 1.0 1.0\n",
      "1.0 1.0 0.0\n",
      "0.0 0.0 1.0\n",
      "1.0 0.0 0.0\n",
      "0.0 1.0 1.0\n",
      "0.0 1.0 0.0\n",
      "1.0 0.0 1.0\n",
      "0.1 0.2\n",
      "0.3 0.4\n",
      "0.0 0.0\n",
      "0.0 0.0\n",
      "0.0 0.0\n",
      "0.0 0.0\n",
      "0.0 0.0\n",
      "0.0 0.0\n",
      "1\n",
      "0 1 0.3 0.4 0.5 0.6\n",
      "True\n"
     ]
    }
   ],
   "source": [
    "# Create a sample cubic crystal structure with 8 atoms and 2 species\n",
    "cubic_structure = CrystalStructure(8, 2, 3)\n",
    "\n",
    "positions = [\n",
    "    (0.0, 0.0, 0.0),\n",
    "    (1.0, 1.0, 1.0),\n",
    "    (1.0, 1.0, 0.0),\n",
    "    (0.0, 0.0, 1.0),\n",
    "    (1.0, 0.0, 0.0),\n",
    "    (0.0, 1.0, 1.0),\n",
    "    (0.0, 1.0, 0.0),\n",
    "    (1.0, 0.0, 1.0)\n",
    "]\n",
    "\n",
    "for position in positions:\n",
    "    cubic_structure.add_position(*position)\n",
    "\n",
    "potentials = [\n",
    "    (0, [0.1, 0.2]),\n",
    "    (1, [0.3, 0.4])\n",
    "]\n",
    "\n",
    "for idx, potential in potentials:\n",
    "    cubic_structure.set_potential(idx, potential)\n",
    "\n",
    "interactions = [\n",
    "    (0, 1, [0.3, 0.4, 0.5, 0.6])\n",
    "]\n",
    "\n",
    "for interaction in interactions:\n",
    "    cubic_structure.add_interaction(*interaction)\n",
    "\n",
    "encoded_structure = cubic_structure.to_string()\n",
    "print(encoded_structure)\n",
    "\n",
    "decoded_structure = CrystalStructure.from_string(encoded_structure)\n",
    "\n",
    "print(decoded_structure.to_string() == encoded_structure)  # Should print True\n",
    "\n",
    "cubic_structure.to_file('../../native_crystal_database/cubic.dat')\n"
   ]
  },
  {
   "cell_type": "code",
   "execution_count": 3,
   "metadata": {},
   "outputs": [],
   "source": [
    "# Create a hexagonal crystal structure with 6 atoms and 2 species in 2D\n",
    "hexagonal_structure = CrystalStructure(6, 2, 2)\n",
    "\n",
    "positions = [\n",
    "    (0, 0),\n",
    "    (1, 0),\n",
    "    (1.5, 0.866),\n",
    "    (1, 1.732),\n",
    "    (0, 1.732),\n",
    "    (-0.5, 0.866)\n",
    "]\n",
    "\n",
    "for position in positions:\n",
    "    hexagonal_structure.add_position(*position)\n",
    "\n",
    "interactions = [\n",
    "    (0, 1, [0, -0.1, -0.1, 0]),\n",
    "    (1, 2, [0, -0.2, -0.2, 0]),\n",
    "    (2, 3, [0, -0.1, -0.1, 0]),\n",
    "    (3, 4, [0, -0.3, -0.3, 0]),\n",
    "    (4, 5, [0, 0.1, 0.1, 0]),\n",
    "    (5, 0, [0, -0.1, -0.1, 0])\n",
    "]\n",
    "\n",
    "for interaction in interactions:\n",
    "    hexagonal_structure.add_interaction(*interaction)\n",
    "\n",
    "hexagonal_structure.to_file('hexagon_binary.dat')\n"
   ]
  },
  {
   "cell_type": "code",
   "execution_count": 4,
   "metadata": {},
   "outputs": [
    {
     "data": {
      "text/plain": [
       "{(0, 1): [0.0, -0.1, -0.1, 0.0],\n",
       " (1, 2): [0.0, -0.2, -0.2, 0.0],\n",
       " (2, 3): [0.0, -0.1, -0.1, 0.0],\n",
       " (3, 4): [0.0, -0.3, -0.3, 0.0],\n",
       " (4, 5): [0.0, 0.1, 0.1, 0.0],\n",
       " (0, 5): [0.0, -0.1, -0.1, 0.0]}"
      ]
     },
     "execution_count": 4,
     "metadata": {},
     "output_type": "execute_result"
    }
   ],
   "source": [
    "structure = CrystalStructure.from_file(\"hexagon_binary.dat\")\n",
    "structure.interactions"
   ]
  }
 ],
 "metadata": {
  "kernelspec": {
   "display_name": "cspraa",
   "language": "python",
   "name": "python3"
  },
  "language_info": {
   "codemirror_mode": {
    "name": "ipython",
    "version": 3
   },
   "file_extension": ".py",
   "mimetype": "text/x-python",
   "name": "python",
   "nbconvert_exporter": "python",
   "pygments_lexer": "ipython3",
   "version": "3.11.6"
  }
 },
 "nbformat": 4,
 "nbformat_minor": 2
}
