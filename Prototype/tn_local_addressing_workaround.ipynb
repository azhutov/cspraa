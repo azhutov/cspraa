{
 "cells": [
  {
   "cell_type": "code",
   "execution_count": 1,
   "metadata": {},
   "outputs": [],
   "source": [
    "import os\n",
    "import dotenv\n",
    "import numpy as np\n",
    "from dataclasses import replace\n",
    "import matplotlib.pyplot as plt\n",
    "from pulser import Pulse, Register, Sequence\n",
    "from pulser.register.register_layout import RegisterLayout\n",
    "from pulser.devices import Chadoq2\n",
    "from pulser.channels.dmm import DMM\n",
    "from pulser.waveforms import InterpolatedWaveform, ConstantWaveform\n",
    "from pasqal_cloud import SDK\n",
    "from pasqal_cloud.device import EmulatorType"
   ]
  },
  {
   "cell_type": "code",
   "execution_count": 2,
   "metadata": {},
   "outputs": [],
   "source": [
    "# %%\n",
    "N = 8\n",
    "L = 7.0\n",
    "omega_max = 15\n",
    "\n",
    "trap_coordinates = [(i*L, 0.0) for i in range(N)]\n",
    "weights = np.ones((N))\n",
    "\n",
    "register = Register.from_coordinates(trap_coordinates, center=False, prefix=\"q\")\n",
    "\n",
    "# %%\n",
    "weights = np.array([0.325, 0] + list(np.linspace(0.5, 1, N-2)))\n",
    "weights /= weights.sum()\n",
    "\n",
    "register_layout = RegisterLayout(trap_coordinates)\n",
    "detuning_map = register_layout.define_detuning_map(\n",
    "    {i: weights[i] for i in range(N)}  # mapping between trap ids and weights\n",
    ")\n",
    "\n",
    "delta_abs = 8\n",
    "T = 10000 # in ns, evolution time\n",
    "\n",
    "#-------------DEFINE A VIRTUAL MACHINE TO REUSE LOCAL CHANNEL\n",
    "VirtualChadoq2 = Chadoq2.to_virtual()\n",
    "VirtualChadoq2 = replace(VirtualChadoq2, reusable_channels=True)\n",
    "#----------------------------------------------------------#\n",
    "\n",
    "seq = Sequence(register, VirtualChadoq2)\n",
    "\n",
    "# global channel\n",
    "seq.declare_channel(\"ch0\", \"rydberg_global\")\n",
    "adiabatic_pulse = Pulse(\n",
    "    amplitude = InterpolatedWaveform(T, [1e-9, omega_max, 1e-9]),\n",
    "    detuning = InterpolatedWaveform(T, [-delta_abs, delta_abs]),\n",
    "    phase = 0\n",
    ")\n",
    "seq.add(adiabatic_pulse, \"ch0\")\n",
    "\n",
    "\n",
    "#---------------------------DETUNING MAP WORKAROUND\n",
    "# \"dmm_\" names are reserved so we cannot use them\n",
    "seq.declare_channel(\"my_dmm_0\",\"rydberg_local\", initial_target=\"q0\")\n",
    "detuning_map = Pulse(\n",
    "    amplitude = ConstantWaveform(T, 0.0),\n",
    "    detuning = ConstantWaveform(T, -delta_abs / 2 / weights.max()),\n",
    "    phase = 0\n",
    ")\n",
    "# no-delay protocol to allow addressing the same atom in different channels\n",
    "seq.add(detuning_map, \"my_dmm_0\", protocol=\"no-delay\")\n",
    "\n",
    "\n",
    "# add a second local detuning\n",
    "seq.declare_channel(\"my_dmm_1\",\"rydberg_local\", initial_target=\"q1\")\n",
    "seq.add(detuning_map, \"my_dmm_1\", protocol=\"no-delay\")\n",
    "#----------------------------------------------------------#"
   ]
  },
  {
   "cell_type": "code",
   "execution_count": 3,
   "metadata": {},
   "outputs": [
    {
     "name": "stdout",
     "output_type": "stream",
     "text": [
      "job-id: 71c63ab6-baf9-41ad-a180-7485df2bad8e, status: PENDING, result: None\n",
      "None\n"
     ]
    },
    {
     "ename": "AttributeError",
     "evalue": "'NoneType' object has no attribute 'items'",
     "output_type": "error",
     "traceback": [
      "\u001b[0;31m---------------------------------------------------------------------------\u001b[0m",
      "\u001b[0;31mAttributeError\u001b[0m                            Traceback (most recent call last)",
      "\u001b[1;32m/Users/azhutov/Library/CloudStorage/OneDrive-UniversityofWaterloo/OneDrive/archive/code/cspraa/Prototype/tn_local_addressing_workaround.ipynb Cell 3\u001b[0m line \u001b[0;36m3\n\u001b[1;32m     <a href='vscode-notebook-cell:/Users/azhutov/Library/CloudStorage/OneDrive-UniversityofWaterloo/OneDrive/archive/code/cspraa/Prototype/tn_local_addressing_workaround.ipynb#W2sZmlsZQ%3D%3D?line=28'>29</a>\u001b[0m count_dict \u001b[39m=\u001b[39m result\u001b[39m.\u001b[39mordered_jobs[\u001b[39m0\u001b[39m]\u001b[39m.\u001b[39mresult\n\u001b[1;32m     <a href='vscode-notebook-cell:/Users/azhutov/Library/CloudStorage/OneDrive-UniversityofWaterloo/OneDrive/archive/code/cspraa/Prototype/tn_local_addressing_workaround.ipynb#W2sZmlsZQ%3D%3D?line=31'>32</a>\u001b[0m \u001b[39m# %%\u001b[39;00m\n\u001b[0;32m---> <a href='vscode-notebook-cell:/Users/azhutov/Library/CloudStorage/OneDrive-UniversityofWaterloo/OneDrive/archive/code/cspraa/Prototype/tn_local_addressing_workaround.ipynb#W2sZmlsZQ%3D%3D?line=32'>33</a>\u001b[0m count_dict \u001b[39m=\u001b[39m \u001b[39mdict\u001b[39m(\u001b[39msorted\u001b[39m(count_dict\u001b[39m.\u001b[39;49mitems(), key\u001b[39m=\u001b[39m\u001b[39mlambda\u001b[39;00m item: item[\u001b[39m1\u001b[39m], reverse\u001b[39m=\u001b[39m\u001b[39mTrue\u001b[39;00m))\n\u001b[1;32m     <a href='vscode-notebook-cell:/Users/azhutov/Library/CloudStorage/OneDrive-UniversityofWaterloo/OneDrive/archive/code/cspraa/Prototype/tn_local_addressing_workaround.ipynb#W2sZmlsZQ%3D%3D?line=33'>34</a>\u001b[0m plt\u001b[39m.\u001b[39mfigure()\n\u001b[1;32m     <a href='vscode-notebook-cell:/Users/azhutov/Library/CloudStorage/OneDrive-UniversityofWaterloo/OneDrive/archive/code/cspraa/Prototype/tn_local_addressing_workaround.ipynb#W2sZmlsZQ%3D%3D?line=34'>35</a>\u001b[0m plt\u001b[39m.\u001b[39mxlabel(\u001b[39m\"\u001b[39m\u001b[39mbitstrings\u001b[39m\u001b[39m\"\u001b[39m)\n",
      "\u001b[0;31mAttributeError\u001b[0m: 'NoneType' object has no attribute 'items'"
     ]
    }
   ],
   "source": [
    "# %%\n",
    "serialized_sequence = seq.to_abstract_repr()\n",
    "\n",
    "# %%\n",
    "dotenv.load_dotenv()\n",
    "project_id = os.environ.get('PASQAL_PROJECT_ID')\n",
    "username = os.environ.get('PASQAL_USERNAME')\n",
    "password = os.environ.get('PASQAL_PASSWORD')\n",
    "\n",
    "if not all([project_id, username, password]):\n",
    "    raise ValueError(\"Missing PASQAL credentials. Please set environment variables.\")\n",
    "\n",
    "# %%\n",
    "sdk = SDK(username=username, password=password, project_id=project_id)\n",
    "\n",
    "job = {\"runs\": 50, \"variables\": {}}\n",
    "\n",
    "batch = sdk.create_batch(\n",
    "    serialized_sequence, [job], emulator=EmulatorType.EMU_TN\n",
    ")\n",
    "\n",
    "for job in batch.ordered_jobs:\n",
    "    print(f\"job-id: {job.id}, status: {job.status}, result: {job.result}\")\n"
   ]
  },
  {
   "cell_type": "code",
   "execution_count": null,
   "metadata": {},
   "outputs": [],
   "source": [
    "# you need to wait for the job to finish"
   ]
  },
  {
   "cell_type": "code",
   "execution_count": 5,
   "metadata": {},
   "outputs": [
    {
     "name": "stdout",
     "output_type": "stream",
     "text": [
      "{'00100101': 18, '00101001': 18, '00010101': 6, '00101010': 5, '00101000': 1, '00010001': 1, '00100001': 1}\n"
     ]
    },
    {
     "data": {
      "image/png": "[encoded data removed]",
      "text/plain": [
       "<Figure size 640x480 with 1 Axes>"
      ]
     },
     "metadata": {},
     "output_type": "display_data"
    }
   ],
   "source": [
    "# %%\n",
    "result = sdk.get_batch(batch.id)\n",
    "print(result.ordered_jobs[0].result)\n",
    "count_dict = result.ordered_jobs[0].result\n",
    "\n",
    "\n",
    "# %%\n",
    "count_dict = dict(sorted(count_dict.items(), key=lambda item: item[1], reverse=True))\n",
    "plt.figure()\n",
    "plt.xlabel(\"bitstrings\")\n",
    "plt.ylabel(\"counts\")\n",
    "plt.bar(count_dict.keys(), count_dict.values(), width=0.5)\n",
    "plt.xticks(rotation=\"horizontal\")\n",
    "plt.show()"
   ]
  }
 ],
 "metadata": {
  "kernelspec": {
   "display_name": "cspraa",
   "language": "python",
   "name": "python3"
  },
  "language_info": {
   "codemirror_mode": {
    "name": "ipython",
    "version": 3
   },
   "file_extension": ".py",
   "mimetype": "text/x-python",
   "name": "python",
   "nbconvert_exporter": "python",
   "pygments_lexer": "ipython3",
   "version": "3.9.18"
  }
 },
 "nbformat": 4,
 "nbformat_minor": 2
}
