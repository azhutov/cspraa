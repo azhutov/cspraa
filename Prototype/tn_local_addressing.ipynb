{
 "cells": [
  {
   "cell_type": "code",
   "execution_count": 1,
   "metadata": {},
   "outputs": [],
   "source": [
    "import os\n",
    "import dotenv\n",
    "import numpy as np\n",
    "from dataclasses import replace\n",
    "import matplotlib.pyplot as plt\n",
    "from pulser import Pulse, Register, Sequence\n",
    "from pulser.register.register_layout import RegisterLayout\n",
    "from pulser.devices import Chadoq2\n",
    "from pulser.channels.dmm import DMM\n",
    "from pulser.waveforms import InterpolatedWaveform, ConstantWaveform\n",
    "from pasqal_cloud import SDK\n",
    "from pasqal_cloud.device import EmulatorType"
   ]
  },
  {
   "cell_type": "code",
   "execution_count": 2,
   "metadata": {},
   "outputs": [],
   "source": [
    "N = 8\n",
    "L = 7.0\n",
    "omega_max = 15\n",
    "\n",
    "trap_coordinates = [(i*L, 0.0) for i in range(N)]\n",
    "weights = np.ones((N))\n",
    "\n",
    "register = Register.from_coordinates(trap_coordinates, center=False, prefix=\"q\")\n",
    "# register.draw(\n",
    "#     blockade_radius=Chadoq2.rydberg_blockade_radius(omega_max),\n",
    "#     draw_graph=False,\n",
    "#     draw_half_radius=True,\n",
    "# )"
   ]
  },
  {
   "cell_type": "code",
   "execution_count": 3,
   "metadata": {},
   "outputs": [],
   "source": [
    "weights = np.array([0.325, 0] + list(np.linspace(0.5, 1, N-2)))\n",
    "weights /= weights.sum()\n",
    "\n",
    "dmm = DMM(\n",
    "    clock_period=4,\n",
    "    min_duration=16,\n",
    "    max_duration=2**26,\n",
    "    mod_bandwidth=8,\n",
    "    bottom_detuning=-800,  # detuning between 0 and -20 rad/µs\n",
    ")\n",
    "# Chadoq3 = replace(\n",
    "#     Chadoq2.to_virtual(),\n",
    "#     dmm_objects=(dmm, DMM()),\n",
    "#     reusable_channels=True,\n",
    "#     max_radial_distance=100,\n",
    "#     rydberg_level = 70,\n",
    "#     max_atom_num = 100\n",
    "# )\n",
    "\n",
    "register_layout = RegisterLayout(trap_coordinates)\n",
    "detuning_map = register_layout.define_detuning_map(\n",
    "    {i: weights[i] for i in range(N)}  # mapping between trap ids and weights\n",
    ")\n",
    "# detuning_map.draw(labels=range(N))"
   ]
  },
  {
   "cell_type": "code",
   "execution_count": 9,
   "metadata": {},
   "outputs": [],
   "source": [
    "delta_abs = 8\n",
    "T = 10000 # in ns, evolution time\n",
    "\n",
    "seq = Sequence(register, Chadoq2)\n",
    "\n",
    "seq.config_detuning_map(detuning_map, \"dmm_0\")\n",
    "seq.declare_channel(\"ch0\", \"rydberg_global\")\n",
    "\n",
    "adiabatic_pulse = Pulse(\n",
    "    amplitude = InterpolatedWaveform(T, [1e-9, omega_max, 1e-9]), # By default, interpolate just connects the dots with cubic functions\n",
    "    detuning = InterpolatedWaveform(T, [-delta_abs, delta_abs]),\n",
    "    phase = 0\n",
    ")\n",
    "\n",
    "seq.add(adiabatic_pulse, \"ch0\")\n",
    "seq.add_dmm_detuning(ConstantWaveform(T, -delta_abs / 2 / weights.max()), \"dmm_0\")\n",
    "# seq.draw(\n",
    "#         mode=\"input+output\",\n",
    "#         draw_qubit_det=True,\n",
    "#          draw_qubit_amp=True)"
   ]
  },
  {
   "cell_type": "code",
   "execution_count": 10,
   "metadata": {},
   "outputs": [],
   "source": [
    "serialized_sequence = seq.to_abstract_repr()"
   ]
  },
  {
   "cell_type": "code",
   "execution_count": 11,
   "metadata": {},
   "outputs": [],
   "source": [
    "dotenv.load_dotenv()\n",
    "project_id = os.environ.get('PASQAL_PROJECT_ID')\n",
    "username = os.environ.get('PASQAL_USERNAME')\n",
    "password = os.environ.get('PASQAL_PASSWORD')\n",
    "\n",
    "if not all([project_id, username, password]):\n",
    "    raise ValueError(\"Missing PASQAL credentials. Please set environment variables.\")"
   ]
  },
  {
   "cell_type": "code",
   "execution_count": 12,
   "metadata": {},
   "outputs": [
    {
     "name": "stdout",
     "output_type": "stream",
     "text": [
      "job-id: c9743738-bad2-4844-b942-5d034284552b, status: PENDING, result: None\n"
     ]
    }
   ],
   "source": [
    "sdk = SDK(username=username, password=password, project_id=project_id)\n",
    "\n",
    "job = {\"runs\": 50, \"variables\": {}}\n",
    "\n",
    "batch = sdk.create_batch(\n",
    "    serialized_sequence, [job], emulator=EmulatorType.EMU_TN\n",
    ")\n",
    "\n",
    "for job in batch.ordered_jobs:\n",
    "    print(f\"job-id: {job.id}, status: {job.status}, result: {job.result}\")\n"
   ]
  },
  {
   "cell_type": "code",
   "execution_count": 26,
   "metadata": {},
   "outputs": [
    {
     "name": "stdout",
     "output_type": "stream",
     "text": [
      "PENDING\n"
     ]
    }
   ],
   "source": [
    "print(job.status)"
   ]
  },
  {
   "cell_type": "code",
   "execution_count": 15,
   "metadata": {},
   "outputs": [
    {
     "name": "stdout",
     "output_type": "stream",
     "text": [
      "None\n"
     ]
    }
   ],
   "source": [
    "result = sdk.get_batch(batch.id)\n",
    "print(result.ordered_jobs[0].result)\n",
    "count_dict = result.ordered_jobs[0].result\n"
   ]
  },
  {
   "cell_type": "code",
   "execution_count": 14,
   "metadata": {},
   "outputs": [
    {
     "ename": "AttributeError",
     "evalue": "'NoneType' object has no attribute 'items'",
     "output_type": "error",
     "traceback": [
      "\u001b[0;31m---------------------------------------------------------------------------\u001b[0m",
      "\u001b[0;31mAttributeError\u001b[0m                            Traceback (most recent call last)",
      "\u001b[1;32m/Users/azhutov/Library/CloudStorage/OneDrive-UniversityofWaterloo/OneDrive/archive/code/cspraa/Prototype/tn_local_addressing.ipynb Cell 9\u001b[0m line \u001b[0;36m1\n\u001b[0;32m----> <a href='vscode-notebook-cell:/Users/azhutov/Library/CloudStorage/OneDrive-UniversityofWaterloo/OneDrive/archive/code/cspraa/Prototype/tn_local_addressing.ipynb#W6sZmlsZQ%3D%3D?line=0'>1</a>\u001b[0m count_dict \u001b[39m=\u001b[39m \u001b[39mdict\u001b[39m(\u001b[39msorted\u001b[39m(count_dict\u001b[39m.\u001b[39;49mitems(), key\u001b[39m=\u001b[39m\u001b[39mlambda\u001b[39;00m item: item[\u001b[39m1\u001b[39m], reverse\u001b[39m=\u001b[39m\u001b[39mTrue\u001b[39;00m))\n\u001b[1;32m      <a href='vscode-notebook-cell:/Users/azhutov/Library/CloudStorage/OneDrive-UniversityofWaterloo/OneDrive/archive/code/cspraa/Prototype/tn_local_addressing.ipynb#W6sZmlsZQ%3D%3D?line=1'>2</a>\u001b[0m plt\u001b[39m.\u001b[39mfigure()\n\u001b[1;32m      <a href='vscode-notebook-cell:/Users/azhutov/Library/CloudStorage/OneDrive-UniversityofWaterloo/OneDrive/archive/code/cspraa/Prototype/tn_local_addressing.ipynb#W6sZmlsZQ%3D%3D?line=2'>3</a>\u001b[0m plt\u001b[39m.\u001b[39mxlabel(\u001b[39m\"\u001b[39m\u001b[39mbitstrings\u001b[39m\u001b[39m\"\u001b[39m)\n",
      "\u001b[0;31mAttributeError\u001b[0m: 'NoneType' object has no attribute 'items'"
     ]
    }
   ],
   "source": [
    "count_dict = dict(sorted(count_dict.items(), key=lambda item: item[1], reverse=True))\n",
    "plt.figure()\n",
    "plt.xlabel(\"bitstrings\")\n",
    "plt.ylabel(\"counts\")\n",
    "plt.bar(count_dict.keys(), count_dict.values(), width=0.5)\n",
    "plt.xticks(rotation=\"horizontal\")\n",
    "plt.show()"
   ]
  },
  {
   "cell_type": "code",
   "execution_count": null,
   "metadata": {},
   "outputs": [],
   "source": []
  }
 ],
 "metadata": {
  "kernelspec": {
   "display_name": "cspraa",
   "language": "python",
   "name": "python3"
  },
  "language_info": {
   "codemirror_mode": {
    "name": "ipython",
    "version": 3
   },
   "file_extension": ".py",
   "mimetype": "text/x-python",
   "name": "python",
   "nbconvert_exporter": "python",
   "pygments_lexer": "ipython3",
   "version": "3.9.18"
  }
 },
 "nbformat": 4,
 "nbformat_minor": 2
}
