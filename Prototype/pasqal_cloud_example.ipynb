{
 "cells": [
  {
   "cell_type": "code",
   "execution_count": 7,
   "metadata": {},
   "outputs": [],
   "source": [
    "import os\n",
    "import dotenv\n",
    "\n",
    "import matplotlib.pyplot as plt\n",
    "from pulser import Pulse, Register, Sequence\n",
    "from pulser.devices import Chadoq2\n",
    "from pasqal_cloud import SDK\n",
    "from pasqal_cloud.device import EmulatorType"
   ]
  },
  {
   "cell_type": "code",
   "execution_count": 3,
   "metadata": {},
   "outputs": [],
   "source": [
    "# Define a register for your sequence\n",
    "register = Register.square(2, spacing=5, prefix=\"q\")\n",
    "# Create a sequence for that register\n",
    "sequence = Sequence(register, Chadoq2)\n",
    "# Add a channel to your sequence\n",
    "sequence.declare_channel(\"rydberg\", \"rydberg_global\")\n",
    "# Declare a variable\n",
    "omega_max = sequence.declare_variable(\"omega_max\")\n",
    "# Add a pulse to that channel with the amplitude omega_max\n",
    "generic_pulse = Pulse.ConstantPulse(100, omega_max, 2, 0.0)\n",
    "sequence.add(generic_pulse, \"rydberg\")\n",
    "\n",
    "# When you are done building your sequence, serialize it into a string\n",
    "serialized_sequence = sequence.to_abstract_repr()"
   ]
  },
  {
   "cell_type": "code",
   "execution_count": 8,
   "metadata": {},
   "outputs": [],
   "source": [
    "dotenv.load_dotenv()\n",
    "# Get credentials from environment variables\n",
    "project_id = os.environ.get('PASQAL_PROJECT_ID') # Replace this value by your project_id on the PASQAL platform.\n",
    "username = os.environ.get('PASQAL_USERNAME') # Replace this value by your username or email on the PASQAL platform.\n",
    "password = os.environ.get('PASQAL_PASSWORD') # Replace this value by your password on the PASQAL platform.\n",
    "\n",
    "# Check if all credentials are present\n",
    "if not all([project_id, username, password]):\n",
    "    raise ValueError(\"Missing PASQAL credentials. Please set environment variables.\")"
   ]
  },
  {
   "cell_type": "code",
   "execution_count": 34,
   "metadata": {},
   "outputs": [
    {
     "name": "stdout",
     "output_type": "stream",
     "text": [
      "job-id: a53eedbb-c3f5-4f42-9fa1-df896755a595, status: PENDING, result: None\n",
      "job-id: 15d39111-68f6-47fd-926d-0f3a34b62053, status: PENDING, result: None\n"
     ]
    }
   ],
   "source": [
    "# Initialize the cloud client\n",
    "sdk = SDK(username=username, password=password, project_id=project_id)\n",
    "\n",
    "# When creating a job, select a number of runs and set the desired values for the variables\n",
    "# defined in the sequence\n",
    "job1 = {\"runs\": 20, \"variables\": {\"omega_max\": 6}}\n",
    "job2 = {\"runs\": 50, \"variables\": {\"omega_max\": 10.5}}\n",
    "\n",
    "# You can also choose to run your batch on an emulator using the optional argument 'emulator'\n",
    "# For using a basic single-threaded QPU emulator that can go up to 10 qubits, you can specify the \"EMU_FREE\" emulator.\n",
    "batch = sdk.create_batch(\n",
    "    serialized_sequence, [job1, job2], emulator=EmulatorType.EMU_FREE\n",
    ")\n",
    "\n",
    "# Once the QPU has returned the results, you can access them with the following:\n",
    "for job in batch.ordered_jobs:\n",
    "    print(f\"job-id: {job.id}, status: {job.status}, result: {job.result}\")\n"
   ]
  },
  {
   "cell_type": "code",
   "execution_count": 36,
   "metadata": {},
   "outputs": [],
   "source": [
    "result = sdk.get_batch(batch.id)\n",
    "count_dict = result.ordered_jobs[0].result"
   ]
  },
  {
   "cell_type": "code",
   "execution_count": 37,
   "metadata": {},
   "outputs": [
    {
     "data": {
      "image/png": "[encoded data removed]",
      "text/plain": [
       "<Figure size 640x480 with 1 Axes>"
      ]
     },
     "metadata": {},
     "output_type": "display_data"
    }
   ],
   "source": [
    "count_dict = dict(sorted(count_dict.items(), key=lambda item: item[1], reverse=True))\n",
    "plt.figure()\n",
    "plt.xlabel(\"bitstrings\")\n",
    "plt.ylabel(\"counts\")\n",
    "plt.bar(count_dict.keys(), count_dict.values(), width=0.5)\n",
    "plt.xticks(rotation=\"horizontal\")\n",
    "plt.show()"
   ]
  },
  {
   "cell_type": "code",
   "execution_count": null,
   "metadata": {},
   "outputs": [],
   "source": []
  }
 ],
 "metadata": {
  "kernelspec": {
   "display_name": "cspraa",
   "language": "python",
   "name": "python3"
  },
  "language_info": {
   "codemirror_mode": {
    "name": "ipython",
    "version": 3
   },
   "file_extension": ".py",
   "mimetype": "text/x-python",
   "name": "python",
   "nbconvert_exporter": "python",
   "pygments_lexer": "ipython3",
   "version": "3.9.18"
  }
 },
 "nbformat": 4,
 "nbformat_minor": 2
}
