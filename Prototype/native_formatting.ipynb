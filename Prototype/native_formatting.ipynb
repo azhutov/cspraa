{
 "cells": [
  {
   "cell_type": "code",
   "execution_count": 1,
   "metadata": {},
   "outputs": [],
   "source": [
    "from Prototype.crystal_structure import CrystalStructure\n"
   ]
  },
  {
   "cell_type": "code",
   "execution_count": 2,
   "metadata": {},
   "outputs": [
    {
     "name": "stdout",
     "output_type": "stream",
     "text": [
      "8 2\n",
      "#0: 0.0, 0.0, 0.0\n",
      "#1: 1.0, 1.0, 1.0\n",
      "#2: 1.0, 1.0, 0.0\n",
      "#3: 0.0, 0.0, 1.0\n",
      "#4: 1.0, 0.0, 0.0\n",
      "#5: 0.0, 1.0, 1.0\n",
      "#6: 0.0, 1.0, 0.0\n",
      "#7: 1.0, 0.0, 1.0\n",
      "#0: (0, 0.1)\n",
      "#1: (1, 0.2)\n",
      "#2: \n",
      "#3: \n",
      "#4: \n",
      "#5: \n",
      "#6: \n",
      "#7: \n",
      "#0, #1: (0, 0, 0.3), (0, 1, 0.4)\n",
      "True\n"
     ]
    }
   ],
   "source": [
    "# Create a sample NaCl crystal structure with 8 atoms and 2 species\n",
    "nacl_structure = CrystalStructure(8, 2)\n",
    "\n",
    "positions = [\n",
    "    (0.0, 0.0, 0.0),\n",
    "    (1.0, 1.0, 1.0),\n",
    "    (1.0, 1.0, 0.0),\n",
    "    (0.0, 0.0, 1.0),\n",
    "    (1.0, 0.0, 0.0),\n",
    "    (0.0, 1.0, 1.0),\n",
    "    (0.0, 1.0, 0.0),\n",
    "    (1.0, 0.0, 1.0)\n",
    "]\n",
    "nacl_structure.add_position(positions)\n",
    "\n",
    "potentials = [\n",
    "    (0, [(0, 0.1)]),\n",
    "    (1, [(1, 0.2)])\n",
    "]\n",
    "nacl_structure.set_potential(potentials)\n",
    "\n",
    "interactions = [\n",
    "    (0, 1, [(0, 0, 0.3), (0, 1, 0.4)])\n",
    "]\n",
    "nacl_structure.set_interaction(interactions)\n",
    "\n",
    "encoded_structure = nacl_structure.encode()\n",
    "print(encoded_structure)\n",
    "\n",
    "decoded_structure = CrystalStructure.decode(encoded_structure)\n",
    "\n",
    "print(decoded_structure.encode() == encoded_structure)  # Should print True\n",
    "\n",
    "nacl_structure.write_to_file('nacl_structure.nat')\n",
    "\n",
    "read_structure = CrystalStructure.read_from_file('nacl_structure.nat')\n"
   ]
  },
  {
   "cell_type": "code",
   "execution_count": 3,
   "metadata": {},
   "outputs": [
    {
     "name": "stdout",
     "output_type": "stream",
     "text": [
      "[(0.0, 0.0, 0.0), (1.0, 1.0, 1.0), (1.0, 1.0, 0.0), (0.0, 0.0, 1.0), (1.0, 0.0, 0.0), (0.0, 1.0, 1.0), (0.0, 1.0, 0.0), (1.0, 0.0, 1.0)]\n",
      "[[(0, 0.1)], [(1, 0.2)], [], [], [], [], [], []]\n",
      "{(0, 1): [(0, 0, 0.3), (0, 1, 0.4)]}\n"
     ]
    }
   ],
   "source": [
    "print(nacl_structure.positions)\n",
    "print(nacl_structure.potentials)\n",
    "print(nacl_structure.interactions)\n"
   ]
  }
 ],
 "metadata": {
  "kernelspec": {
   "display_name": "cspraa",
   "language": "python",
   "name": "python3"
  },
  "language_info": {
   "codemirror_mode": {
    "name": "ipython",
    "version": 3
   },
   "file_extension": ".py",
   "mimetype": "text/x-python",
   "name": "python",
   "nbconvert_exporter": "python",
   "pygments_lexer": "ipython3",
   "version": "3.9.18"
  }
 },
 "nbformat": 4,
 "nbformat_minor": 2
}
