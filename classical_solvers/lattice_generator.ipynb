{
 "cells": [
  {
   "cell_type": "code",
   "execution_count": 1,
   "metadata": {},
   "outputs": [],
   "source": [
    "import os\n",
    "import numpy as np\n",
    "from math import sqrt\n",
    "import matplotlib.pyplot as plt\n",
    "from typing import List, Tuple, Dict\n",
    "from Prototype.crystal_structure import CrystalStructure\n"
   ]
  },
  {
   "cell_type": "code",
   "execution_count": 2,
   "metadata": {},
   "outputs": [],
   "source": [
    "class LatticeGenerator:\n",
    "    def __init__(self, base_directory, species_count, dimension):\n",
    "        self.base_directory = base_directory\n",
    "        self.species_count = species_count\n",
    "        self.dimension = dimension\n",
    "\n",
    "    def generate_lattice(self, nx, ny):\n",
    "        raise NotImplementedError(\"Subclasses should implement this method\")\n",
    "\n",
    "    def generate_filename(self, nx, ny, vertices_count):\n",
    "        raise NotImplementedError(\"Subclasses should implement this method\")\n",
    "\n",
    "    def save_structure(self, nx, ny):\n",
    "        positions, interactions = self.generate_lattice(nx, ny)\n",
    "        vertices_count = len(positions)\n",
    "        crystal = CrystalStructure(vertices_count, self.species_count, self.dimension)\n",
    "\n",
    "        for position in positions:\n",
    "            crystal.add_position(*position)\n",
    "\n",
    "        for interaction_pair, interaction_value in interactions.items():\n",
    "            crystal.add_interaction(*interaction_pair, interaction_value)\n",
    "\n",
    "        filename = self.generate_filename(nx, ny, vertices_count)\n",
    "        filepath = os.path.join(self.base_directory, filename)\n",
    "        crystal.to_file(filepath)\n",
    "        print(f\"Saved: {filepath}\")\n",
    "\n",
    "\n",
    "class GrapheneLatticeGenerator(LatticeGenerator):\n",
    "    def generate_lattice(self, nx, ny):\n",
    "        positions = self.generate_positions(nx, ny)\n",
    "        interactions = self.find_bonded_interactions(positions, bond_length=1.01, interaction_energy=[0, 0, 0, -0.1])\n",
    "        return positions, interactions\n",
    "\n",
    "    def generate_positions(self, nx, ny):\n",
    "        PRECISION = 5\n",
    "        b1 = np.array([1, 0])\n",
    "        b2 = np.array([0.5, sqrt(3)/2])\n",
    "        positions = set()\n",
    "\n",
    "        for i in range(nx):\n",
    "            for j in range(ny):\n",
    "                pos = (i * b1 + j * b2) * sqrt(3)\n",
    "                for k in range(6):\n",
    "                    angle = 2 * np.pi * k / 6\n",
    "                    offset = np.array([np.sin(angle), np.cos(angle)])\n",
    "                    vertex = tuple(np.around(pos + offset, decimals=PRECISION))\n",
    "                    positions.add(vertex)\n",
    "        return list(positions)\n",
    "\n",
    "    def find_bonded_interactions(self, positions, bond_length, interaction_energy):\n",
    "        new_interactions = {}\n",
    "        for i in range(len(positions)):\n",
    "            for j in range(i + 1, len(positions)):\n",
    "                if self.calculate_distance(positions[i], positions[j]) <= bond_length:\n",
    "                    new_interactions[(i, j)] = interaction_energy\n",
    "        return new_interactions\n",
    "\n",
    "    @staticmethod\n",
    "    def calculate_distance(pos1, pos2):\n",
    "        return sqrt(sum((p1 - p2) ** 2 for p1, p2 in zip(pos1, pos2)))\n",
    "\n",
    "    def generate_filename(self, nx, ny, vertices_count):\n",
    "        return f'graphene_supercell_nx_{nx}_ny_{ny}.dat'"
   ]
  },
  {
   "cell_type": "code",
   "execution_count": 3,
   "metadata": {},
   "outputs": [
    {
     "name": "stdout",
     "output_type": "stream",
     "text": [
      "Saved: ../native_crystal_database/benchmark_crystals/graphene_supercell_nx_1_ny_1.dat\n",
      "Saved: ../native_crystal_database/benchmark_crystals/graphene_supercell_nx_2_ny_1.dat\n",
      "Saved: ../native_crystal_database/benchmark_crystals/graphene_supercell_nx_3_ny_1.dat\n",
      "Saved: ../native_crystal_database/benchmark_crystals/graphene_supercell_nx_4_ny_1.dat\n",
      "Saved: ../native_crystal_database/benchmark_crystals/graphene_supercell_nx_5_ny_1.dat\n"
     ]
    }
   ],
   "source": [
    "nx_list = [1, 2, 3, 4, 5]\n",
    "ny_list = [1, 1, 1, 1, 1]\n",
    "base_directory = '../native_crystal_database/benchmark_crystals'\n",
    "\n",
    "os.makedirs(base_directory, exist_ok=True)\n",
    "\n",
    "# Instantiate a generator for graphene lattice\n",
    "graphene_generator = GrapheneLatticeGenerator(base_directory, species_count=2, dimension=2)\n",
    "\n",
    "for nx, ny in zip(nx_list, ny_list):\n",
    "    graphene_generator.save_structure(nx, ny)"
   ]
  },
  {
   "cell_type": "code",
   "execution_count": 4,
   "metadata": {},
   "outputs": [
    {
     "data": {
      "image/png": "[encoded data removed]",
      "text/plain": [
       "<Figure size 640x480 with 1 Axes>"
      ]
     },
     "metadata": {},
     "output_type": "display_data"
    }
   ],
   "source": [
    "nx = 2\n",
    "ny = 2\n",
    "positions = graphene_generator.generate_positions(nx, ny)\n",
    "\n",
    "x, y = zip(*positions)\n",
    "plt.scatter(x, y, color='black')\n",
    "plt.xlabel('x')\n",
    "plt.ylabel('y')\n",
    "plt.title('Graphene Lattice')\n",
    "plt.gca().set_aspect('equal', adjustable='box')\n",
    "plt.show()\n"
   ]
  },
  {
   "cell_type": "markdown",
   "metadata": {},
   "source": [
    "# Test"
   ]
  },
  {
   "cell_type": "code",
   "execution_count": 5,
   "metadata": {},
   "outputs": [],
   "source": [
    "potentials = []\n",
    "interactions = {}\n",
    "\n",
    "bond_length = 1.01\n",
    "interaction_energy = [0, 0, 0, -0.1]\n",
    "interactions = graphene_generator.find_bonded_interactions(positions, bond_length, interaction_energy)"
   ]
  },
  {
   "cell_type": "code",
   "execution_count": 6,
   "metadata": {},
   "outputs": [],
   "source": [
    "vertices_count = len(positions)\n",
    "species_count = 2\n",
    "dimension = 2\n",
    "graphene = CrystalStructure(vertices_count, species_count, dimension)\n",
    "\n",
    "for position in positions:\n",
    "    graphene.add_position(*position)\n",
    "\n",
    "for interaction in interactions:\n",
    "    graphene.add_interaction(interaction[0], interaction[1], interactions[interaction])\n"
   ]
  },
  {
   "cell_type": "code",
   "execution_count": 8,
   "metadata": {},
   "outputs": [
    {
     "data": {
      "image/png": "[encoded data removed]",
      "text/plain": [
       "<Figure size 800x600 with 1 Axes>"
      ]
     },
     "metadata": {},
     "output_type": "display_data"
    }
   ],
   "source": [
    "# Plotting the lattice with bonds\n",
    "plt.figure(figsize=(8, 6))\n",
    "for (i, j), _ in interactions.items():\n",
    "    pos1 = positions[i]\n",
    "    pos2 = positions[j]\n",
    "    plt.plot([pos1[0], pos2[0]], [pos1[1], pos2[1]], 'gray')  # Draw a line for the bond\n",
    "\n",
    "# Unpack positions for plotting atoms\n",
    "x, y = zip(*positions)\n",
    "plt.scatter(x, y, color='black', zorder=3)  # zorder=3 to draw atoms on top of the bonds\n",
    "\n",
    "plt.xlabel('x')\n",
    "plt.ylabel('y')\n",
    "# plt.title('Graphene Lattice with Bonds')\n",
    "plt.gca().set_aspect('equal', adjustable='box')\n",
    "# plt.grid(True)\n",
    "plt.axis('off')\n",
    "plt.show()"
   ]
  },
  {
   "cell_type": "code",
   "execution_count": 9,
   "metadata": {},
   "outputs": [],
   "source": [
    "crystal_file = '../native_crystal_database/graphene_supercell.dat'\n",
    "graphene.to_file(crystal_file)"
   ]
  },
  {
   "cell_type": "code",
   "execution_count": null,
   "metadata": {},
   "outputs": [],
   "source": []
  }
 ],
 "metadata": {
  "kernelspec": {
   "display_name": "cspraa",
   "language": "python",
   "name": "python3"
  },
  "language_info": {
   "codemirror_mode": {
    "name": "ipython",
    "version": 3
   },
   "file_extension": ".py",
   "mimetype": "text/x-python",
   "name": "python",
   "nbconvert_exporter": "python",
   "pygments_lexer": "ipython3",
   "version": "3.9.18"
  }
 },
 "nbformat": 4,
 "nbformat_minor": 2
}
