{
 "cells": [
  {
   "cell_type": "code",
   "execution_count": 1,
   "metadata": {},
   "outputs": [],
   "source": [
    "import os\n",
    "import numpy as np\n",
    "import yaml\n",
    "from tqdm import tqdm\n",
    "import pandas as pd\n",
    "import matplotlib.pyplot as plt\n",
    "from classical_solvers.solver_benchmark import SolverBenchmark"
   ]
  },
  {
   "cell_type": "code",
   "execution_count": 2,
   "metadata": {},
   "outputs": [],
   "source": [
    "def run_benchmark(solver):\n",
    "    benchmark_results = []\n",
    "    with tqdm(total=len(solver.nx_list), desc=f\"Running {solver.name} Benchmark\") as pbar:\n",
    "\n",
    "        if solver.traversal_method == 'nested':\n",
    "            for nx in solver.nx_list:\n",
    "                for ny in solver.ny_list:\n",
    "                    pbar.set_description(f\"Solver: {solver.name}, Size: nx={nx}, ny={ny}\")\n",
    "                    solver.run(nx, ny)\n",
    "                    pbar.update(1)\n",
    "        elif solver.traversal_method == 'zip':\n",
    "            for nx, ny in zip(solver.nx_list, solver.ny_list):\n",
    "                pbar.set_description(f\"Solver: {solver.name}, Size: nx={nx}, ny={ny}\")\n",
    "                solver.run(nx, ny)\n",
    "                pbar.update(1)\n",
    "    return benchmark_results"
   ]
  },
  {
   "cell_type": "code",
   "execution_count": 3,
   "metadata": {},
   "outputs": [
    {
     "name": "stderr",
     "output_type": "stream",
     "text": [
      "Solver: simulated_annealing, Size: nx=5, ny=5: 100%|██████████| 1/1 [00:00<00:00, 51.45it/s]"
     ]
    },
    {
     "name": "stderr",
     "output_type": "stream",
     "text": [
      "\n",
      "/Users/azhutov/.virtualenvs/cspraa/lib/python3.9/site-packages/matplotlib/axes/_axes.py:1185: RuntimeWarning: All-NaN axis encountered\n",
      "  miny = np.nanmin(masked_verts[..., 1])\n",
      "/Users/azhutov/.virtualenvs/cspraa/lib/python3.9/site-packages/matplotlib/axes/_axes.py:1186: RuntimeWarning: All-NaN axis encountered\n",
      "  maxy = np.nanmax(masked_verts[..., 1])\n"
     ]
    },
    {
     "data": {
      "image/png": "[encoded data removed]",
      "text/plain": [
       "<Figure size 640x480 with 1 Axes>"
      ]
     },
     "metadata": {},
     "output_type": "display_data"
    }
   ],
   "source": [
    "simulated_annealing_config = {\n",
    "    \"name\": \"simulated_annealing\",\n",
    "    \"executable\": \"./simulated_annealing/simulated_annealing\",\n",
    "    \"nx_list\": [5],\n",
    "    \"ny_list\": [5],\n",
    "    \"crystals_directory\": '../native_crystal_database/benchmark_crystals/simulated_annealing/',\n",
    "    \"solutions_directory\": './simulated_annealing/solutions',\n",
    "    \"benchmark_file_path\": './simulated_annealing_optimization.csv',\n",
    "    \"repetitions\": 10,\n",
    "    \"iterations\": 1e3,\n",
    "    \"traversal_method\": 'zip'\n",
    "}\n",
    "\n",
    "\n",
    "solver = SolverBenchmark(**simulated_annealing_config)\n",
    "solver.generate_problems()\n",
    "run_benchmark(solver)\n",
    "\n",
    "# Load benchmark results from the correct file\n",
    "df = pd.read_csv(simulated_annealing_config['benchmark_file_path'])\n",
    "stats_df = df.groupby('problem_size')['runtime'].agg(['mean', 'std']).reset_index()\n",
    "\n",
    "# Plotting the results\n",
    "fig, ax = plt.subplots()\n",
    "ax.errorbar(stats_df['problem_size'], stats_df['mean'], yerr=stats_df['std'], label='Simulated Annealing', fmt='-o', capsize=5)\n",
    "\n",
    "ax.set_xlabel('Problem Size (atoms)')\n",
    "ax.set_ylabel('Run time (ms)')\n",
    "ax.legend()\n",
    "plt.show()"
   ]
  },
  {
   "cell_type": "code",
   "execution_count": 4,
   "metadata": {},
   "outputs": [
    {
     "name": "stdout",
     "output_type": "stream",
     "text": [
      "Ground state energy: -9.4\n",
      "Energy: -9.4\n",
      "Relative error: 0.000\n"
     ]
    }
   ],
   "source": [
    "def load_solution(solutions_directory, crystal_name_format, nx, ny, solution_file_extension='yaml'):\n",
    "    filepath = os.path.join(solutions_directory, f\"{crystal_name_format.format(nx=nx, ny=ny)}_solution.{solution_file_extension}\")\n",
    "    if not os.path.exists(filepath): raise FileNotFoundError(filepath)\n",
    "    with open(filepath, 'r') as f: return yaml.safe_load(f)\n",
    "\n",
    "\n",
    "relative_error = abs(solution['ground_state_energy'] - solution['energy']) / abs(solution['ground_state_energy'])\n",
    "print(f\"Ground state energy: {solution['ground_state_energy']}\")\n",
    "print(f\"Energy: {solution['energy']}\")\n",
    "print(f\"Relative error: {relative_error:0.3f}\")"
   ]
  }
 ],
 "metadata": {
  "kernelspec": {
   "display_name": "cspraa",
   "language": "python",
   "name": "python3"
  },
  "language_info": {
   "codemirror_mode": {
    "name": "ipython",
    "version": 3
   },
   "file_extension": ".py",
   "mimetype": "text/x-python",
   "name": "python",
   "nbconvert_exporter": "python",
   "pygments_lexer": "ipython3",
   "version": "3.9.18"
  }
 },
 "nbformat": 4,
 "nbformat_minor": 2
}
